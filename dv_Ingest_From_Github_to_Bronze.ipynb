{
 "cells": [
  {
   "cell_type": "code",
   "execution_count": 0,
   "metadata": {
    "application/vnd.databricks.v1+cell": {
     "cellMetadata": {
      "byteLimit": 2048000,
      "rowLimit": 10000
     },
     "inputWidgets": {},
     "nuid": "8a59ca0b-8fdc-4233-a461-6cbd26ec1392",
     "showTitle": false,
     "tableResultSettingsMap": {},
     "title": ""
    }
   },
   "outputs": [
    {
     "output_type": "stream",
     "name": "stdout",
     "output_type": "stream",
     "text": [
      "Downloading file 1: https://raw.githubusercontent.com/owid/owid-datasets/refs/heads/master/datasets/World%20Inequality%20Database%20(WID)%20-%20Pretax%20income/World%20Inequality%20Database%20(WID)%20-%20Pretax%20income.csv\n+-----------+----+-----------------+---------------------------+-------------+-------------+-------------+-------------+-------------+-------------+--------------------------------+--------------------------------+--------------------------------+----------------------------------+----------------------------------+----------------------------------+----------------------------------+----------------------------------+---------------------------------+----------------------------------+----------------------------------+----------------------------------+-------------------------------+--------------------------------------+------------------------------------+----------------------------------+------------------------------+-----------------+--------------------------------------+---------------------+---------------------+---------------------+---------------------+---------------------+---------------------+---------------------+---------------------+-------------------------------------+--------------------------------------------+------------------------------------------+----------------------------------------+------------------------------------+---------------------------------------+----------------------+----------------------+----------------------+----------------------+-------------------------------+----------------------+----------------------+----------------------+-------------------------------------+--------------------------------------------+------------------------------------------+----------------------------------------+------------------------------------+\n|     Entity|Year| Gini coefficient|Palma ratio (S90/S40 ratio)|S90/S10 ratio|S80/S20 ratio|S90/S50 ratio|P90/P10 ratio|P90/P50 ratio|P50/P10 ratio|P0-P10 - share of the bottom 10%|P0-P40 - share of the bottom 40%|P0-P50 - share of the bottom 50%|P10-P20 - share of national income|P20-P30 - share of national income|P30-P40 - share of national income|P40-P50 - share of national income|P50-P60 - share of national income|P50-P90 - share of the middle 40%|P60-P70 - share of national income|P70-P80 - share of national income|P80-P90 - share of national income|P90-P100 - share of the top 10%|P99.999-P100 - share of the top 0.001%|P99.99-P100 - share of the top 0.01%|P99.9-P100 - share of the top 0.1%|P99-P100 - share of the top 1%|      Mean income|P0-P10 - mean income of the bottom 10%|P10-P20 - mean income|P20-P30 - mean income|P30-P40 - mean income|P40-P50 - mean income|P50-P60 - mean income|P60-P70 - mean income|P70-P80 - mean income|P80-P90 - mean income|P90-P100 - mean income of the top 10%|P99.999-P100 - mean income of the top 0.001%|P99.99-P100 - mean income of the top 0.01%|P99.9-P100 - mean income of the top 0.1%|P99-P100 - mean income of the top 1%|P0 - income threshold of the bottom 10%|P10 - income threshold|P20 - income threshold|P30 - income threshold|P40 - income threshold|P50 - income threshold (median)|P60 - income threshold|P70 - income threshold|P80 - income threshold|P90 - income threshold of the top 10%|P99.999 - income threshold of the top 0.001%|P99.99 - income threshold of the top 0.01%|P99.9 - income threshold of the top 0.1%|P99 - income threshold of the top 1%|\n+-----------+----+-----------------+---------------------------+-------------+-------------+-------------+-------------+-------------+-------------+--------------------------------+--------------------------------+--------------------------------+----------------------------------+----------------------------------+----------------------------------+----------------------------------+----------------------------------+---------------------------------+----------------------------------+----------------------------------+----------------------------------+-------------------------------+--------------------------------------+------------------------------------+----------------------------------+------------------------------+-----------------+--------------------------------------+---------------------+---------------------+---------------------+---------------------+---------------------+---------------------+---------------------+---------------------+-------------------------------------+--------------------------------------------+------------------------------------------+----------------------------------------+------------------------------------+---------------------------------------+----------------------+----------------------+----------------------+----------------------+-------------------------------+----------------------+----------------------+----------------------+-------------------------------------+--------------------------------------------+------------------------------------------+----------------------------------------+------------------------------------+\n|Afghanistan|2008|0.524523877237829|                  3.8833334|     144.6207|    21.515385|     2.444056|    14.330658|    2.6858408|    5.3356323|                            0.29|                            10.8|                           17.16|                              2.31|                              3.88|                4.8500000000000005|                              5.83|                              7.24|                             40.9|                              9.16|                              10.5|                14.000000000000002|                          41.94|                                  0.54|                                1.73|                              5.66|            16.220000000000002|3553.318948336138|                     102.6043862957291|    820.8452718975916|    1379.414285697641|    1724.675118392389|    2071.727900676623|    2570.908039729663|    3255.371693722884|    3731.409211088979|    4975.292036784079|                    14900.93135754405|                             1914629.7775619|                         616234.5217554972|                       201124.7311186814|                   57625.30617729983|                                    0.0|     410.4226359487958|     1210.747030587241|     1510.455690194707|     1861.031282467363|               2189.86421366986|     2984.446224396543|     3362.954849048492|     4088.012270162634|                    5881.626540091454|                           1321585.119800707|                         285415.5962404956|                        91374.6811150499|                   22015.17485843988|\n|Afghanistan|2012|0.492655795156669|                  3.1718495|      121.125|    18.358622|         2.04|    13.028428|     2.598268|    5.0142741|                            0.32|                           12.22|                            19.0|                              2.58|                              4.48|                              5.42|                              6.21|                              7.42|                            42.24|                              9.33|                             11.02|                             14.48|                          38.76|                                  0.42|                                1.35|                              4.54|                         13.82|4935.029169445308|                     158.9744368763597|    1271.800585776757|    2209.713109832949|    2673.614241342977|    3063.378549353887|    3660.209759502173|    4602.546159107408|    5438.999719190696|    7144.090661245716|                    19126.93901839477|                           2094670.989794932|                         667390.1008460402|                       224106.3420623988|                   68192.79944164393|                                    0.0|     635.8977475054388|     1875.901409600572|      2424.59433759493|     2795.141004411775|              3188.565573089848|     4165.814445094791|     4806.594237078404|      5960.60977270759|                    8284.748027207823|                           1432844.215352385|                         312388.2301828446|                       106238.1902526158|                   28076.53088789729|\n|Afghanistan|2017|0.515393129277367|                  3.5785341|    132.29033|    19.938848|    2.3052278|    13.699612|    2.8200932|    4.8578577|                            0.31|                           11.46|                           17.79|                              2.47|                              4.18|                              5.04|                              5.79|                              6.94|                            41.21|                              9.05|                              10.8|                             14.42|             41.010000000000005|                                  0.43|                                1.46|                5.0200000000000005|            15.079999999999998|4635.860131021041|                     143.2032441825284|    1145.631044226107|    1936.486614329198|    2337.700054802481|    2683.195062727673|    3219.578518826071|     4195.28488876961|    5004.640302077796|    6682.974178671622|                    19009.89212929968|                           2001499.003604691|                         675937.2065835997|                       232678.8099955685|                   69909.46678530831|                                    0.0|      572.818067495993|     1689.808462885594|     2106.508013163471|     2450.272160689728|               2782.66862800768|     3774.339639748461|     4383.027243629456|     5530.272060639276|                    7847.385058226181|                           1397939.786362767|                         326794.1558293566|                       110604.6419625425|                   28003.89584033254|\n+-----------+----+-----------------+---------------------------+-------------+-------------+-------------+-------------+-------------+-------------+--------------------------------+--------------------------------+--------------------------------+----------------------------------+----------------------------------+----------------------------------+----------------------------------+----------------------------------+---------------------------------+----------------------------------+----------------------------------+----------------------------------+-------------------------------+--------------------------------------+------------------------------------+----------------------------------+------------------------------+-----------------+--------------------------------------+---------------------+---------------------+---------------------+---------------------+---------------------+---------------------+---------------------+---------------------+-------------------------------------+--------------------------------------------+------------------------------------------+----------------------------------------+------------------------------------+---------------------------------------+----------------------+----------------------+----------------------+----------------------+-------------------------------+----------------------+----------------------+----------------------+-------------------------------------+--------------------------------------------+------------------------------------------+----------------------------------------+------------------------------------+\nonly showing top 3 rows\n\nFile saved to: dbfs:/FileStore/tables/Bronze/Urbanisation_Prospects/world_inequality_pretax_income\nDownloading file 2: https://raw.githubusercontent.com/owid/owid-datasets/refs/heads/master/datasets/Countries%20Continents/Countries%20Continents.csv\n+--------------------+----+--------------------+\n|              Entity|Year|Countries Continents|\n+--------------------+----+--------------------+\n|            Abkhazia|2015|                Asia|\n|         Afghanistan|2015|                Asia|\n|Akrotiri and Dhek...|2015|                Asia|\n+--------------------+----+--------------------+\nonly showing top 3 rows\n\nFile saved to: dbfs:/FileStore/tables/Bronze/Urbanisation_Prospects/countries_continents\nDownloading file 3: https://raw.githubusercontent.com/owid/owid-datasets/refs/heads/master/datasets/OWID%20country%20to%20WHO%20regions/OWID%20country%20to%20WHO%20regions.csv\n+-----------+----+--------------------+\n|     Entity|Year|          WHO region|\n+-----------+----+--------------------+\n|Afghanistan|2020|Eastern Mediterra...|\n|    Albania|2020|              Europe|\n|    Algeria|2020|              Africa|\n+-----------+----+--------------------+\nonly showing top 3 rows\n\nFile saved to: dbfs:/FileStore/tables/Bronze/Urbanisation_Prospects/owid_who_regions\nDownloading file 4: https://raw.githubusercontent.com/owid/owid-datasets/refs/heads/master/datasets/Urban%20and%20rural%20population%201950-2050%20-%20UN%20World%20Urbanization%20Prospects%202018/Urban%20and%20rural%20population%201950-2050%20-%20UN%20World%20Urbanization%20Prospects%202018.csv\n+-----------+----+-----------------------------------------------------------------+-----------------------------------------------------------------+\n|     Entity|Year|Urban population 1950-2050 (UN World Urbanization Prospects 2018)|Rural population 1950-2050 (UN World Urbanization Prospects 2018)|\n+-----------+----+-----------------------------------------------------------------+-----------------------------------------------------------------+\n|Afghanistan|1950|                                                           465000|                                                          7287000|\n|Afghanistan|1951|                                                           487000|                                                          7353000|\n|Afghanistan|1952|                                                           510000|                                                          7425000|\n+-----------+----+-----------------------------------------------------------------+-----------------------------------------------------------------+\nonly showing top 3 rows\n\nFile saved to: dbfs:/FileStore/tables/Bronze/Urbanisation_Prospects/urban_rural_population\n"
     ]
    }
   ],
   "source": [
    "import pandas as pd\n",
    "from pyspark.sql import SparkSession\n",
    "from pyspark.sql.types import StructType, StructField, StringType, DoubleType, IntegerType\n",
    "from pyspark.sql import Row\n",
    "import os\n",
    "\n",
    "# Change URL to your Landing Folder or Bronze location.\n",
    "bronze_location= \"dbfs:/FileStore/tables/Bronze/Urbanisation_Prospects\"\n",
    "\n",
    "urls = [\n",
    "    \"https://raw.githubusercontent.com/owid/owid-datasets/refs/heads/master/datasets/World%20Inequality%20Database%20(WID)%20-%20Pretax%20income/World%20Inequality%20Database%20(WID)%20-%20Pretax%20income.csv\",\n",
    "    \"https://raw.githubusercontent.com/owid/owid-datasets/refs/heads/master/datasets/Countries%20Continents/Countries%20Continents.csv\",\n",
    "    \"https://raw.githubusercontent.com/owid/owid-datasets/refs/heads/master/datasets/OWID%20country%20to%20WHO%20regions/OWID%20country%20to%20WHO%20regions.csv\"\n",
    "    ,\"https://raw.githubusercontent.com/owid/owid-datasets/refs/heads/master/datasets/Urban%20and%20rural%20population%201950-2050%20-%20UN%20World%20Urbanization%20Prospects%202018/Urban%20and%20rural%20population%201950-2050%20-%20UN%20World%20Urbanization%20Prospects%202018.csv\"\n",
    "]\n",
    "\n",
    "#Folder Names for the files\n",
    "Folder_name = [\n",
    "    \"world_inequality_pretax_income\",\n",
    "    \"countries_continents\",\n",
    "    \"owid_who_regions\",\n",
    "    \"urban_rural_population\"\n",
    "]\n",
    "spark = SparkSession.builder.getOrCreate()\n",
    "\n",
    "try:\n",
    "    for i, url in enumerate(urls):\n",
    "        print(f\"Downloading file {i+1}: {url}\")\n",
    "        \n",
    "        # Load CSV with pandas\n",
    "        df = pd.read_csv(url)\n",
    "        \n",
    "        # Convert to Spark DataFrame\n",
    "        pdf = spark.createDataFrame(df)\n",
    "        \n",
    "        # Show a few rows\n",
    "        pdf.show(3)\n",
    "\n",
    "         \n",
    "        # Define output path\n",
    "        subfolder = Folder_name[i]\n",
    "        output_path = os.path.join(bronze_location, subfolder)\n",
    "        \n",
    "        #Write file into bronze folder called Urbanisation_Prospects\n",
    "        pdf.write.mode(\"overwrite\").option(\"header\", True).csv(output_path)\n",
    "        print(f\"File saved to: {output_path}\")\n",
    "except Exception as e:\n",
    "    print(\"Error:\", e)\n",
    "\n",
    "\n"
   ]
  }
 ],
 "metadata": {
  "application/vnd.databricks.v1+notebook": {
   "computePreferences": null,
   "dashboards": [],
   "environmentMetadata": {
    "base_environment": "",
    "environment_version": "1"
   },
   "inputWidgetPreferences": null,
   "language": "python",
   "notebookMetadata": {
    "pythonIndentUnit": 4
   },
   "notebookName": "dv_Ingest_From_Github_to_Bronze",
   "widgets": {}
  }
 },
 "nbformat": 4,
 "nbformat_minor": 0
}